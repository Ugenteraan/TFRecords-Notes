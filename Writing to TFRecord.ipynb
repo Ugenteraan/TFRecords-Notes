{
 "cells": [
  {
   "cell_type": "markdown",
   "metadata": {},
   "source": [
    "# In this script we will write our images data into TFRecords."
   ]
  },
  {
   "cell_type": "markdown",
   "metadata": {},
   "source": [
    "### Import the data"
   ]
  },
  {
   "cell_type": "code",
   "execution_count": 1,
   "metadata": {},
   "outputs": [],
   "source": [
    "import numpy as np\n",
    "import tensorflow as tf\n",
    "import glob, os\n",
    "from random import shuffle\n",
    "import matplotlib.pyplot as plt\n",
    "import cv2\n",
    "\n",
    "dataset_path = 'dataset/'\n",
    "image_height, image_width = 128, 128"
   ]
  },
  {
   "cell_type": "code",
   "execution_count": 2,
   "metadata": {},
   "outputs": [],
   "source": [
    "def folder_image_class(base_dataset_path):\n",
    "\t'''\n",
    "\tReturns a 2-D list of images path and corresponding labels each in a separate list, total num of files and a list containing \n",
    "\tclasses names.\n",
    "\tThe images should be segregated into different folders according to its class and the folders should be\n",
    "\tnamed after its class.\n",
    "\t\n",
    "\tParameter\n",
    "\t---------\n",
    "\tbase_dataset_path : the path of the dataset folder   | string\n",
    "\n",
    "\t'''\n",
    "\n",
    "\t#Recursively iterates through all the images in the folder .\n",
    "\t#As glob function also returns the folder path (which is unnecessary in our case), we omit it by\n",
    "\t#filtering for it using os.path.isdir function.\n",
    "\timage_path_list = [x for x in glob.glob(base_dataset_path + '/**', recursive=True) if not os.path.isdir(x)]\n",
    "\n",
    "\t#Since the images path also contains the name of the folder (which is the name of the class), we slice the string starting\n",
    "\t#from the base dataset path length and split it by '/'. The name of the folder will be in the first index.\n",
    "\tclass_list = [x[len(base_dataset_path):].split('/')[0] for x in image_path_list]\n",
    "# \tclass_list = [0 if 'accordion' in x else 1 for x in class_list]\n",
    "\n",
    "\t#Remove duplicates and sort the class names alphabetically in ascending order.\n",
    "\tclasses = list(set(class_list))\n",
    "\tclasses.sort()\n",
    "\n",
    "\t#Total number of files.\n",
    "\ttotal_files = len(image_path_list)\n",
    "\n",
    "\t#Create the 2-D list of images and corresponding labels.\n",
    "\timg_label_list = [[x for x in image_path_list], [x for x in class_list]]\n",
    "\n",
    "\t#Shuffle the lists.\n",
    "\t#We have to zip both the list so that the order is maintained.\n",
    "\tcombined = list(zip(img_label_list[0], img_label_list[1]))\n",
    "\tshuffle(combined)\n",
    "\n",
    "\t#Retrieve the shuffled list.\n",
    "\timg_label_list[0][:],img_label_list[1][:] = zip(*combined)\n",
    "\n",
    "\n",
    "\treturn (img_label_list, total_files, classes)"
   ]
  },
  {
   "cell_type": "code",
   "execution_count": 3,
   "metadata": {},
   "outputs": [],
   "source": [
    "def read_image(im):\n",
    "    \n",
    "    im_ = cv2.imread(im)\n",
    "    im_ = cv2.resize(im_, (image_height, image_width))\n",
    "    im_ = cv2.cvtColor(im_, cv2.COLOR_BGR2RGB)\n",
    "    im_ = im_.astype(np.float32)\n",
    "    return im_"
   ]
  },
  {
   "cell_type": "code",
   "execution_count": 4,
   "metadata": {},
   "outputs": [
    {
     "name": "stdout",
     "output_type": "stream",
     "text": [
      "Image path :  dataset/airplanes/image_0014.jpg, label :  airplanes\n",
      "Image path :  dataset/airplanes/image_0042.jpg, label :  airplanes\n",
      "Image path :  dataset/accordion/image_0027.jpg, label :  accordion\n",
      "Image path :  dataset/airplanes/image_0004.jpg, label :  airplanes\n",
      "Image path :  dataset/airplanes/image_0057.jpg, label :  airplanes\n",
      "Image path :  dataset/airplanes/image_0069.jpg, label :  airplanes\n",
      "Image path :  dataset/airplanes/image_0017.jpg, label :  airplanes\n",
      "Image path :  dataset/accordion/image_0053.jpg, label :  accordion\n",
      "Image path :  dataset/accordion/image_0048.jpg, label :  accordion\n",
      "Image path :  dataset/airplanes/image_0063.jpg, label :  airplanes\n",
      "Image path :  dataset/airplanes/image_0067.jpg, label :  airplanes\n",
      "Image path :  dataset/airplanes/image_0070.jpg, label :  airplanes\n",
      "Image path :  dataset/accordion/image_0003.jpg, label :  accordion\n",
      "Image path :  dataset/airplanes/image_0074.jpg, label :  airplanes\n",
      "Image path :  dataset/airplanes/image_0052.jpg, label :  airplanes\n",
      "Image path :  dataset/airplanes/image_0016.jpg, label :  airplanes\n",
      "Image path :  dataset/airplanes/image_0010.jpg, label :  airplanes\n",
      "Image path :  dataset/airplanes/image_0047.jpg, label :  airplanes\n",
      "Image path :  dataset/airplanes/image_0066.jpg, label :  airplanes\n",
      "Image path :  dataset/airplanes/image_0051.jpg, label :  airplanes\n",
      "Image path :  dataset/accordion/image_0047.jpg, label :  accordion\n",
      "Image path :  dataset/airplanes/image_0055.jpg, label :  airplanes\n",
      "Image path :  dataset/airplanes/image_0030.jpg, label :  airplanes\n",
      "Image path :  dataset/airplanes/image_0043.jpg, label :  airplanes\n",
      "Image path :  dataset/airplanes/image_0045.jpg, label :  airplanes\n",
      "Image path :  dataset/accordion/image_0015.jpg, label :  accordion\n",
      "Image path :  dataset/accordion/image_0050.jpg, label :  accordion\n",
      "Image path :  dataset/airplanes/image_0013.jpg, label :  airplanes\n",
      "Image path :  dataset/airplanes/image_0048.jpg, label :  airplanes\n",
      "Image path :  dataset/accordion/image_0026.jpg, label :  accordion\n",
      "Image path :  dataset/airplanes/image_0029.jpg, label :  airplanes\n",
      "Image path :  dataset/airplanes/image_0040.jpg, label :  airplanes\n",
      "Image path :  dataset/airplanes/image_0027.jpg, label :  airplanes\n",
      "Image path :  dataset/airplanes/image_0037.jpg, label :  airplanes\n",
      "Image path :  dataset/airplanes/image_0025.jpg, label :  airplanes\n",
      "Image path :  dataset/airplanes/image_0011.jpg, label :  airplanes\n",
      "Image path :  dataset/accordion/image_0021.jpg, label :  accordion\n",
      "Image path :  dataset/airplanes/image_0053.jpg, label :  airplanes\n",
      "Image path :  dataset/accordion/image_0041.jpg, label :  accordion\n",
      "Image path :  dataset/airplanes/image_0009.jpg, label :  airplanes\n",
      "Image path :  dataset/accordion/image_0022.jpg, label :  accordion\n",
      "Image path :  dataset/airplanes/image_0031.jpg, label :  airplanes\n",
      "Image path :  dataset/accordion/image_0004.jpg, label :  accordion\n",
      "Image path :  dataset/airplanes/image_0032.jpg, label :  airplanes\n",
      "Image path :  dataset/accordion/image_0033.jpg, label :  accordion\n",
      "Image path :  dataset/airplanes/image_0075.jpg, label :  airplanes\n",
      "Image path :  dataset/accordion/image_0013.jpg, label :  accordion\n",
      "Image path :  dataset/accordion/image_0040.jpg, label :  accordion\n",
      "Image path :  dataset/airplanes/image_0073.jpg, label :  airplanes\n",
      "Image path :  dataset/airplanes/image_0024.jpg, label :  airplanes\n",
      "Image path :  dataset/airplanes/image_0005.jpg, label :  airplanes\n",
      "Image path :  dataset/airplanes/image_0008.jpg, label :  airplanes\n",
      "Image path :  dataset/airplanes/image_0034.jpg, label :  airplanes\n",
      "Image path :  dataset/airplanes/image_0041.jpg, label :  airplanes\n",
      "Image path :  dataset/accordion/image_0052.jpg, label :  accordion\n",
      "Image path :  dataset/airplanes/image_0006.jpg, label :  airplanes\n",
      "Image path :  dataset/airplanes/image_0038.jpg, label :  airplanes\n",
      "Image path :  dataset/airplanes/image_0072.jpg, label :  airplanes\n",
      "Image path :  dataset/accordion/image_0024.jpg, label :  accordion\n",
      "Image path :  dataset/airplanes/image_0049.jpg, label :  airplanes\n",
      "Image path :  dataset/accordion/image_0042.jpg, label :  accordion\n",
      "Image path :  dataset/accordion/image_0045.jpg, label :  accordion\n",
      "Image path :  dataset/airplanes/image_0046.jpg, label :  airplanes\n",
      "Image path :  dataset/airplanes/image_0065.jpg, label :  airplanes\n",
      "Image path :  dataset/accordion/image_0009.jpg, label :  accordion\n",
      "Image path :  dataset/airplanes/image_0064.jpg, label :  airplanes\n",
      "Image path :  dataset/airplanes/image_0020.jpg, label :  airplanes\n",
      "Image path :  dataset/airplanes/image_0061.jpg, label :  airplanes\n",
      "Image path :  dataset/airplanes/image_0026.jpg, label :  airplanes\n",
      "Image path :  dataset/accordion/image_0011.jpg, label :  accordion\n",
      "Image path :  dataset/airplanes/image_0022.jpg, label :  airplanes\n",
      "Image path :  dataset/accordion/image_0044.jpg, label :  accordion\n",
      "Image path :  dataset/accordion/image_0010.jpg, label :  accordion\n",
      "Image path :  dataset/airplanes/image_0021.jpg, label :  airplanes\n",
      "Image path :  dataset/airplanes/image_0028.jpg, label :  airplanes\n",
      "Image path :  dataset/accordion/image_0017.jpg, label :  accordion\n",
      "Image path :  dataset/airplanes/image_0050.jpg, label :  airplanes\n",
      "Image path :  dataset/airplanes/image_0068.jpg, label :  airplanes\n",
      "Image path :  dataset/airplanes/image_0015.jpg, label :  airplanes\n",
      "Image path :  dataset/accordion/image_0037.jpg, label :  accordion\n",
      "Image path :  dataset/airplanes/image_0059.jpg, label :  airplanes\n",
      "Image path :  dataset/accordion/image_0023.jpg, label :  accordion\n",
      "Image path :  dataset/accordion/image_0002.jpg, label :  accordion\n",
      "Image path :  dataset/airplanes/image_0019.jpg, label :  airplanes\n",
      "Image path :  dataset/airplanes/image_0036.jpg, label :  airplanes\n",
      "Image path :  dataset/airplanes/image_0001.jpg, label :  airplanes\n",
      "Image path :  dataset/accordion/image_0001.jpg, label :  accordion\n",
      "Image path :  dataset/accordion/image_0014.jpg, label :  accordion\n",
      "Image path :  dataset/accordion/image_0029.jpg, label :  accordion\n",
      "Image path :  dataset/airplanes/image_0077.jpg, label :  airplanes\n",
      "Image path :  dataset/airplanes/image_0071.jpg, label :  airplanes\n",
      "Image path :  dataset/airplanes/image_0039.jpg, label :  airplanes\n",
      "Image path :  dataset/airplanes/image_0012.jpg, label :  airplanes\n",
      "Image path :  dataset/airplanes/image_0023.jpg, label :  airplanes\n",
      "Image path :  dataset/accordion/image_0038.jpg, label :  accordion\n",
      "Image path :  dataset/accordion/image_0020.jpg, label :  accordion\n",
      "Image path :  dataset/accordion/image_0055.jpg, label :  accordion\n",
      "Image path :  dataset/accordion/image_0049.jpg, label :  accordion\n",
      "Image path :  dataset/airplanes/image_0054.jpg, label :  airplanes\n",
      "Image path :  dataset/airplanes/image_0002.jpg, label :  airplanes\n",
      "Image path :  dataset/airplanes/image_0044.jpg, label :  airplanes\n",
      "Image path :  dataset/airplanes/image_0003.jpg, label :  airplanes\n",
      "Image path :  dataset/accordion/image_0008.jpg, label :  accordion\n",
      "Image path :  dataset/airplanes/image_0062.jpg, label :  airplanes\n",
      "Image path :  dataset/accordion/image_0031.jpg, label :  accordion\n",
      "Image path :  dataset/airplanes/image_0033.jpg, label :  airplanes\n",
      "Image path :  dataset/airplanes/image_0018.jpg, label :  airplanes\n",
      "Image path :  dataset/airplanes/image_0007.jpg, label :  airplanes\n",
      "Image path :  dataset/airplanes/image_0058.jpg, label :  airplanes\n",
      "Image path :  dataset/airplanes/image_0056.jpg, label :  airplanes\n",
      "Image path :  dataset/accordion/image_0016.jpg, label :  accordion\n",
      "Image path :  dataset/accordion/image_0028.jpg, label :  accordion\n",
      "Image path :  dataset/airplanes/image_0060.jpg, label :  airplanes\n",
      "Image path :  dataset/airplanes/image_0076.jpg, label :  airplanes\n",
      "Image path :  dataset/accordion/image_0036.jpg, label :  accordion\n",
      "Image path :  dataset/accordion/image_0032.jpg, label :  accordion\n",
      "Image path :  dataset/accordion/image_0039.jpg, label :  accordion\n",
      "Image path :  dataset/airplanes/image_0035.jpg, label :  airplanes\n",
      "Image path :  dataset/accordion/image_0030.jpg, label :  accordion\n",
      "Image path :  dataset/accordion/image_0034.jpg, label :  accordion\n",
      "Image path :  dataset/accordion/image_0043.jpg, label :  accordion\n"
     ]
    }
   ],
   "source": [
    "data_list, total_files_num ,_ = folder_image_class(dataset_path)\n",
    "#data list is a 2D list. The first dimension of the list contains a list of paths to the images while the \n",
    "#second dimension of the list contains a list of labels corresponding to the images.\n",
    "for x in range(total_files_num):\n",
    "    print(\"Image path :  %s, label :  %s\"%(str(data_list[0][x]), str(data_list[1][x])))"
   ]
  },
  {
   "cell_type": "markdown",
   "metadata": {},
   "source": [
    "### Write into TFRecords"
   ]
  },
  {
   "cell_type": "markdown",
   "metadata": {},
   "source": [
    "In order to store data into a TFRecords file, the data has to be stored in a protocol buffer called **Example** and serialized to string first. The **Example** protocol buffer contains **Features**. **Features** wraps a _list_ of data of a specific type for Tensorflow's understanding. The _list_ can be of type _bytes_, _float_ or _int64_."
   ]
  },
  {
   "cell_type": "markdown",
   "metadata": {},
   "source": [
    "**Helper functions to convert data to features of specific type**"
   ]
  },
  {
   "cell_type": "code",
   "execution_count": 5,
   "metadata": {},
   "outputs": [],
   "source": [
    "def _int64_feature(value):\n",
    "    #pass the tf.train.Int64List into tf.train.Feature as the data type. The given value must be in list format.\n",
    "    return tf.train.Feature(int64_list=tf.train.Int64List(value=[value]))\n",
    "\n",
    "def _bytes_feature(value):\n",
    "    #pass the tf.train.BytesList into tf.train.Feature as the data type. The given value must be in list format.\n",
    "    return tf.train.Feature(bytes_list=tf.train.BytesList(value=[value]))\n",
    "\n",
    "def _float_feature(value):\n",
    "    #pass the tf.train.Floatlist into tf.train.Feature as the data type. The given value must be in list format.\n",
    "    return tf.train.Feature(float_list=tf.train.FloatList(value=[value]))"
   ]
  },
  {
   "cell_type": "markdown",
   "metadata": {},
   "source": [
    "**Write into a TFRecords file**"
   ]
  },
  {
   "cell_type": "code",
   "execution_count": 6,
   "metadata": {},
   "outputs": [
    {
     "name": "stdout",
     "output_type": "stream",
     "text": [
      "Data : 0/121\n",
      "Data : 100/121\n",
      "Finished !\n"
     ]
    }
   ],
   "source": [
    "filename = 'train.tfrecords'\n",
    "\n",
    "writer = tf.python_io.TFRecordWriter(filename)\n",
    "\n",
    "test_img = None\n",
    "\n",
    "for idx in range(total_files_num):\n",
    "    \n",
    "    #print progress for every 100 data\n",
    "    if not idx % 100 :\n",
    "        \n",
    "        print('Data : {}/{}'.format(idx, total_files_num))\n",
    "    \n",
    "    im = read_image(data_list[0][idx])\n",
    "    \n",
    "    test_img = im\n",
    "    label = data_list[1][idx]\n",
    "    \n",
    "    #create the feature\n",
    "    feature = {\n",
    "        'train/image': _bytes_feature(tf.compat.as_bytes(im.tostring())),\n",
    "        'train/label': _bytes_feature(tf.compat.as_bytes(str(label)))\n",
    "    }\n",
    "    \n",
    "    #create the example protocol buffer\n",
    "    example = tf.train.Example(features=tf.train.Features(feature=feature))\n",
    "    \n",
    "    #convert the example into string and write it into TFRecords\n",
    "    writer.write(example.SerializeToString())\n",
    "\n",
    "print(\"Finished !\")\n",
    "writer.close()"
   ]
  },
  {
   "cell_type": "markdown",
   "metadata": {},
   "source": [
    "### Read from a TFRecords file"
   ]
  },
  {
   "cell_type": "markdown",
   "metadata": {},
   "source": [
    "To read TFRecords file, first we need to create a list of filenames. The filenames will be held in a FIFO queue. The queue can be used to pass parameters like **num_epochs** to load a limited num of data."
   ]
  },
  {
   "cell_type": "markdown",
   "metadata": {},
   "source": [
    "Then a reader and a decoder have to be defined. The decoder takes a serialized Example and a dictionary that maps feature keys to FixedLenFeature or VarLenFeature values."
   ]
  },
  {
   "cell_type": "code",
   "execution_count": 7,
   "metadata": {},
   "outputs": [],
   "source": [
    "data_path = 'train.tfrecords'\n",
    "\n",
    "sess = tf.InteractiveSession()\n",
    "\n",
    "feature = {\n",
    "    'train/image': tf.FixedLenFeature([], tf.string),\n",
    "    'train/label': tf.FixedLenFeature([], tf.string)\n",
    "}\n",
    "\n",
    "#FIFO queue\n",
    "filename_queue = tf.train.string_input_producer([data_path])\n",
    "\n",
    "reader = tf.TFRecordReader()\n",
    "_, serialized_example = reader.read(filename_queue)\n",
    "\n",
    "#decode the record\n",
    "features = tf.parse_single_example(serialized_example,features=feature)\n",
    "\n",
    "#Convert the image data from string back to the number\n",
    "image = tf.decode_raw(features['train/image'], tf.float32)\n",
    "\n",
    "#cast label into string\n",
    "label = tf.cast(features['train/label'], tf.string)\n",
    "\n",
    "image = tf.reshape(image, [128,128,3])\n",
    "\n",
    "#read the images in batches\n",
    "images, labels = tf.train.shuffle_batch([image, label], batch_size=10, capacity=30, num_threads=1, min_after_dequeue=10)"
   ]
  },
  {
   "cell_type": "code",
   "execution_count": 8,
   "metadata": {},
   "outputs": [],
   "source": [
    "#local variables have to be set for the queue\n",
    "init_op = tf.group(tf.global_variables_initializer(), tf.local_variables_initializer())\n",
    "sess.run(init_op)\n",
    "\n",
    "#to run the FIFO queue\n",
    "coord = tf.train.Coordinator()\n",
    "threads = tf.train.start_queue_runners(coord=coord)"
   ]
  },
  {
   "cell_type": "code",
   "execution_count": 9,
   "metadata": {},
   "outputs": [],
   "source": []
  },
  {
   "cell_type": "code",
   "execution_count": 10,
   "metadata": {},
   "outputs": [
    {
     "name": "stdout",
     "output_type": "stream",
     "text": [
      "(10, 128, 128, 3)\n"
     ]
    },
    {
     "data": {
      "text/plain": [
       "Text(0.5,1,\"b'accordion'\")"
      ]
     },
     "execution_count": 10,
     "metadata": {},
     "output_type": "execute_result"
    },
    {
     "data": {
      "image/png": "[encoded data removed]",
      "text/plain": [
       "<Figure size 432x288 with 1 Axes>"
      ]
     },
     "metadata": {
      "needs_background": "light"
     },
     "output_type": "display_data"
    }
   ],
   "source": [
    "\n",
    "for idx in range(10):\n",
    "    img,lbl = sess.run([images, labels]).\n",
    "    img = img.astype(np.uint8) #8 bit unsigned integer. i.e. pixel values\n",
    "    \n",
    "    for j in range(5):\n",
    "        plt.sublot(2,3, j+1)\n",
    "        plt.imshow(img[j])\n",
    "        plt.title(lbl[j])"
   ]
  },
  {
   "cell_type": "code",
   "execution_count": 11,
   "metadata": {},
   "outputs": [],
   "source": [
    "coord.request_stop()\n",
    "coord.join(threads)\n",
    "sess.close()"
   ]
  }
 ],
 "metadata": {
  "kernelspec": {
   "display_name": "nasa",
   "language": "python",
   "name": "nasa"
  },
  "language_info": {
   "codemirror_mode": {
    "name": "ipython",
    "version": 3
   },
   "file_extension": ".py",
   "mimetype": "text/x-python",
   "name": "python",
   "nbconvert_exporter": "python",
   "pygments_lexer": "ipython3",
   "version": "3.5.2"
  }
 },
 "nbformat": 4,
 "nbformat_minor": 2
}
